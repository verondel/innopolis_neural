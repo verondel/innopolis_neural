{
  "nbformat": 4,
  "nbformat_minor": 0,
  "metadata": {
    "colab": {
      "provenance": [],
      "collapsed_sections": [
        "byLCIOwxde_p"
      ],
      "authorship_tag": "ABX9TyPPdSPw9Vk5aIwCYlSPPiMq",
      "include_colab_link": true
    },
    "kernelspec": {
      "name": "python3",
      "display_name": "Python 3"
    },
    "language_info": {
      "name": "python"
    }
  },
  "cells": [
    {
      "cell_type": "markdown",
      "metadata": {
        "id": "view-in-github",
        "colab_type": "text"
      },
      "source": [
        "<a href=\"https://colab.research.google.com/github/verondel/innopolis_neural/blob/main/main.ipynb\" target=\"_parent\"><img src=\"https://colab.research.google.com/assets/colab-badge.svg\" alt=\"Open In Colab\"/></a>"
      ]
    },
    {
      "cell_type": "markdown",
      "source": [
        "## DATASET CIFAR-10"
      ],
      "metadata": {
        "id": "pZR0ufc5fBza"
      }
    },
    {
      "cell_type": "code",
      "source": [
        "import tensorflow as tf\n",
        "from tensorflow.keras import layers, models\n",
        "import matplotlib.pyplot as plt\n",
        "\n",
        "# Загрузка и предобработка датасета CIFAR-10\n",
        "(train_images, train_labels), (test_images, test_labels) = tf.keras.datasets.cifar10.load_data()\n",
        "train_images, test_images = train_images / 255.0, test_images / 255.0\n",
        "\n",
        "# Создание архитектуры модели\n",
        "model = models.Sequential([\n",
        "    layers.Conv2D(32, (3, 3), activation='relu', input_shape=(32, 32, 3)),\n",
        "    layers.MaxPooling2D((2, 2)),\n",
        "    layers.Conv2D(64, (3, 3), activation='relu'),\n",
        "    layers.MaxPooling2D((2, 2)),\n",
        "    layers.Conv2D(64, (3, 3), activation='relu'),\n",
        "    layers.Flatten(),\n",
        "    layers.Dense(64, activation='relu'),\n",
        "    layers.Dense(10)  # 10 - количество классов в CIFAR-10\n",
        "])\n",
        "\n",
        "# Компиляция модели\n",
        "model.compile(optimizer='adam',\n",
        "              loss=tf.keras.losses.SparseCategoricalCrossentropy(from_logits=True),\n",
        "              metrics=['accuracy'])\n",
        "\n",
        "# Обучение модели\n",
        "history = model.fit(train_images, train_labels, epochs=10, validation_data=(test_images, test_labels))"
      ],
      "metadata": {
        "id": "WujrdH5ZlXlk"
      },
      "execution_count": null,
      "outputs": []
    },
    {
      "cell_type": "markdown",
      "source": [
        "### Элементы, зависящие от количества цветов\n",
        "  **Входной слой** (Input Layer):\n",
        "\n",
        "  Количество каналов входного изображения определяет глубину входного слоя. В случае RGB-изображений, которые имеют три канала (красный, зелёный и синий), входной слой будет иметь глубину 3. В CIFAR-100, каждое изображение имеет размер 32x32 пикселей и 3 цветовых канала, поэтому входной слой ориентирован на обработку данных размером 32x32x3.\n",
        "\n",
        "### Элементы, зависящие от количества классов\n",
        "* **Выходной слой (Output Layer):**\n",
        "  Количество нейронов в выходном слое равно количеству классов, на которые модель должна классифицировать входные данные. Это количество определяет размерность выходного вектора сети. Для CIFAR-100, где 100 различных классов, выходной слой будет иметь 100 нейронов.\n",
        "* **Функция потерь (Loss Function):**\n",
        "  Хотя сама функция потерь не изменяется в зависимости от количества классов, её параметры и интерпретация результатов зависят от этого числа. Для многоклассовой классификации, как в CIFAR-100, обычно используется кросс-энтропия. В нашем случае используется SparseCategoricalCrossentropy, подходящая для задач многоклассовой классификации."
      ],
      "metadata": {
        "id": "liaSuSBMmjxe"
      }
    },
    {
      "cell_type": "code",
      "source": [
        "# Создание архитектуры модели\n",
        "model = models.Sequential([\n",
        "    layers.Conv2D(32, (3, 3), activation='relu', input_shape=(32, 32, 3)),\n",
        "    layers.MaxPooling2D((2, 2)),\n",
        "    layers.Conv2D(64, (3, 3), activation='relu'),\n",
        "    layers.MaxPooling2D((2, 2)),\n",
        "    layers.Conv2D(64, (3, 3), activation='relu'),\n",
        "    layers.Flatten(),\n",
        "    layers.Dense(64, activation='relu'),\n",
        "    layers.Dense(10)\n",
        "])"
      ],
      "metadata": {
        "id": "lYpX8PxzB1kQ"
      },
      "execution_count": 5,
      "outputs": []
    },
    {
      "cell_type": "code",
      "source": [
        "# Компиляция модели\n",
        "model.compile(optimizer='adam',\n",
        "              loss=tf.keras.losses.SparseCategoricalCrossentropy(from_logits=True),\n",
        "              metrics=['accuracy'])"
      ],
      "metadata": {
        "id": "Pt-0nQDfEx2b"
      },
      "execution_count": 6,
      "outputs": []
    },
    {
      "cell_type": "code",
      "source": [
        "# Обучение модели\n",
        "model.fit(train_images, train_labels, epochs=10, validation_data=(test_images, test_labels))"
      ],
      "metadata": {
        "colab": {
          "base_uri": "https://localhost:8080/"
        },
        "id": "fcqFb-QZE0Qq",
        "outputId": "39738754-58e1-42f7-d3bb-4d8b99e9291f"
      },
      "execution_count": 7,
      "outputs": [
        {
          "output_type": "stream",
          "name": "stdout",
          "text": [
            "Epoch 1/10\n",
            "1563/1563 [==============================] - 47s 29ms/step - loss: 1.5336 - accuracy: 0.4395 - val_loss: 1.2288 - val_accuracy: 0.5554\n",
            "Epoch 2/10\n",
            "1563/1563 [==============================] - 44s 28ms/step - loss: 1.1624 - accuracy: 0.5876 - val_loss: 1.0826 - val_accuracy: 0.6163\n",
            "Epoch 3/10\n",
            "1563/1563 [==============================] - 44s 28ms/step - loss: 1.0147 - accuracy: 0.6441 - val_loss: 0.9559 - val_accuracy: 0.6641\n",
            "Epoch 4/10\n",
            "1563/1563 [==============================] - 43s 28ms/step - loss: 0.9200 - accuracy: 0.6767 - val_loss: 0.9400 - val_accuracy: 0.6711\n",
            "Epoch 5/10\n",
            "1563/1563 [==============================] - 42s 27ms/step - loss: 0.8498 - accuracy: 0.7023 - val_loss: 0.8811 - val_accuracy: 0.6958\n",
            "Epoch 6/10\n",
            "1563/1563 [==============================] - 42s 27ms/step - loss: 0.7876 - accuracy: 0.7243 - val_loss: 0.9037 - val_accuracy: 0.6856\n",
            "Epoch 7/10\n",
            "1563/1563 [==============================] - 42s 27ms/step - loss: 0.7369 - accuracy: 0.7416 - val_loss: 0.9316 - val_accuracy: 0.6887\n",
            "Epoch 8/10\n",
            "1563/1563 [==============================] - 43s 28ms/step - loss: 0.6989 - accuracy: 0.7555 - val_loss: 0.8680 - val_accuracy: 0.7038\n",
            "Epoch 9/10\n",
            "1563/1563 [==============================] - 42s 27ms/step - loss: 0.6599 - accuracy: 0.7676 - val_loss: 0.8457 - val_accuracy: 0.7124\n",
            "Epoch 10/10\n",
            "1563/1563 [==============================] - 42s 27ms/step - loss: 0.6202 - accuracy: 0.7821 - val_loss: 0.8605 - val_accuracy: 0.7194\n"
          ]
        },
        {
          "output_type": "execute_result",
          "data": {
            "text/plain": [
              "<keras.src.callbacks.History at 0x78fec149faf0>"
            ]
          },
          "metadata": {},
          "execution_count": 7
        }
      ]
    },
    {
      "cell_type": "code",
      "source": [
        "history = model.fit(train_images, train_labels, epochs=10, validation_data=(test_images, test_labels))"
      ],
      "metadata": {
        "colab": {
          "base_uri": "https://localhost:8080/"
        },
        "id": "YWzfLthCNejl",
        "outputId": "6148167b-0a6d-4e5c-d8ea-c0730d9db37f"
      },
      "execution_count": 18,
      "outputs": [
        {
          "output_type": "stream",
          "name": "stdout",
          "text": [
            "Epoch 1/10\n",
            "1563/1563 [==============================] - 42s 27ms/step - loss: 0.5869 - accuracy: 0.7929 - val_loss: 0.8792 - val_accuracy: 0.7157\n",
            "Epoch 2/10\n",
            "1563/1563 [==============================] - 41s 26ms/step - loss: 0.5555 - accuracy: 0.8035 - val_loss: 0.9197 - val_accuracy: 0.7063\n",
            "Epoch 3/10\n",
            "1563/1563 [==============================] - 41s 26ms/step - loss: 0.5270 - accuracy: 0.8140 - val_loss: 0.9213 - val_accuracy: 0.6995\n",
            "Epoch 4/10\n",
            "1563/1563 [==============================] - 40s 26ms/step - loss: 0.5027 - accuracy: 0.8213 - val_loss: 0.9353 - val_accuracy: 0.7040\n",
            "Epoch 5/10\n",
            "1563/1563 [==============================] - 43s 27ms/step - loss: 0.4720 - accuracy: 0.8324 - val_loss: 0.9978 - val_accuracy: 0.6939\n",
            "Epoch 6/10\n",
            "1563/1563 [==============================] - 41s 26ms/step - loss: 0.4473 - accuracy: 0.8404 - val_loss: 0.9771 - val_accuracy: 0.7083\n",
            "Epoch 7/10\n",
            "1563/1563 [==============================] - 41s 26ms/step - loss: 0.4241 - accuracy: 0.8508 - val_loss: 1.0341 - val_accuracy: 0.7086\n",
            "Epoch 8/10\n",
            "1563/1563 [==============================] - 40s 26ms/step - loss: 0.4022 - accuracy: 0.8561 - val_loss: 1.0650 - val_accuracy: 0.6981\n",
            "Epoch 9/10\n",
            "1563/1563 [==============================] - 40s 26ms/step - loss: 0.3748 - accuracy: 0.8676 - val_loss: 1.0960 - val_accuracy: 0.6970\n",
            "Epoch 10/10\n",
            "1563/1563 [==============================] - 41s 27ms/step - loss: 0.3530 - accuracy: 0.8743 - val_loss: 1.1590 - val_accuracy: 0.6931\n"
          ]
        }
      ]
    },
    {
      "cell_type": "markdown",
      "source": [
        "## место в модели каждого слоя\n",
        "\n",
        "1. **Свёрточный слой (Conv2D):**\n",
        "  * Место в модели: Эти слои являются основой свёрточной нейронной сети (CNN). Они применяют операцию свёртки к входным данным, эффективно извлекая признаки из изображений.\n",
        "  * Обоснование: Использование нескольких свёрточных слоёв позволяет сети учиться на сложных иерархических признаках. Начальные слои извлекают простые признаки (края, цвета), в то время как глубокие слои изучают более сложные аспекты (формы, объекты).\n",
        "\n",
        "2. **Функция активации (ReLU):**\n",
        "  * Место в модели: Используется после каждого свёрточного слоя. ReLU (Rectified Linear Unit) - это нелинейная функция, которая вводит нелинейность в модель, позволяя ей учиться на более сложных данных.\n",
        "  * Обоснование: ReLU предпочтительнее благодаря своей простоте и эффективности. Она ускоряет процесс обучения, избегая проблемы исчезающего градиента, характерной для сигмоидных и гиперболических тангенсальных функций.\n",
        "\n",
        "3. **Слой пулинга (MaxPooling2D):**\n",
        "  * Место в модели: Часто следует за свёрточными слоями. Этот слой уменьшает размерность выходных данных предыдущего слоя, сохраняя при этом важные признаки.\n",
        "  * Обоснование: MaxPooling уменьшает количество параметров и вычислений в сети, контролируя переобучение. Он выбирает максимальное значение из каждого окна фильтров, помогая модели оставаться инвариантной к небольшим сдвигам и искажениям во входных данных.\n",
        "\n",
        "4. **Выпрямитель (Flatten):**\n",
        "  * Место в модели: Этот слой преобразует двумерные матрицы признаков в одномерный вектор. Он часто используется перед полносвязными слоями.\n",
        "  * Обоснование: Flatten необходим для перехода от карт признаков к классификации. Он подготавливает данные для полносвязных слоёв, преобразуя многомерные признаки в одномерный формат.\n",
        "\n",
        "5. **Полносвязный слой (Dense):**\n",
        "  * Место в модели: Используется для классификации. Слой Dense принимает одномерные векторы и производит вывод, основанный на изученных признаках.\n",
        "  * Обоснование: Полносвязные слои обеспечивают окончательную обработку данных после извлечения и сжатия признаков. Они позволяют сети учиться на комбинациях этих признаков для выполнения классификации."
      ],
      "metadata": {
        "id": "dMhcTLcYFD-6"
      }
    },
    {
      "cell_type": "code",
      "source": [
        "# Оценка производительности модели\n",
        "test_loss, test_acc = model.evaluate(test_images, test_labels, verbose=2)\n",
        "print('Точность:', test_acc)"
      ],
      "metadata": {
        "colab": {
          "base_uri": "https://localhost:8080/"
        },
        "id": "zD69rtvEEvfD",
        "outputId": "ac5573de-89d2-4885-a315-67bb0c85aa0f"
      },
      "execution_count": 9,
      "outputs": [
        {
          "output_type": "stream",
          "name": "stdout",
          "text": [
            "313/313 - 3s - loss: 0.8605 - accuracy: 0.7194 - 3s/epoch - 9ms/step\n",
            "Точность: 0.7193999886512756\n"
          ]
        }
      ]
    },
    {
      "cell_type": "markdown",
      "source": [
        "# DATASET CIFAR-100 (Сравнить качество предсказания при обучении на 20 широких классах с предсказаниями при обучении на 100 узких классах)"
      ],
      "metadata": {
        "id": "TTr9_UYqgueE"
      }
    },
    {
      "cell_type": "code",
      "source": [
        "import tensorflow as tf\n",
        "from tensorflow.keras.utils import to_categorical\n",
        "from tensorflow.keras.models import Sequential\n",
        "from tensorflow.keras.layers import Conv2D, MaxPooling2D, Flatten, Dense"
      ],
      "metadata": {
        "id": "7oRiIAMGdLDI"
      },
      "execution_count": null,
      "outputs": []
    },
    {
      "cell_type": "code",
      "source": [
        "# Загрузка и предобработка датасета CIFAR-100\n",
        "(train_images, train_labels), (test_images, test_labels) = tf.keras.datasets.cifar100.load_data(label_mode='fine')\n",
        "train_images, test_images = train_images / 255.0, test_images / 255.0"
      ],
      "metadata": {
        "id": "C4Xx3uJHd384"
      },
      "execution_count": null,
      "outputs": []
    },
    {
      "cell_type": "code",
      "source": [
        "# Преобразование меток в one-hot encoding для узких классов\n",
        "train_labels_fine = to_categorical(train_labels, 100)\n",
        "test_labels_fine = to_categorical(test_labels, 100)"
      ],
      "metadata": {
        "id": "78EbJqU5dMP3"
      },
      "execution_count": null,
      "outputs": []
    },
    {
      "cell_type": "code",
      "source": [
        "# Загрузка меток широких классов\n",
        "(train_images, train_labels_coarse), (test_images, test_labels_coarse) = tf.keras.datasets.cifar100.load_data(label_mode='coarse')\n",
        "\n",
        "# Преобразование меток в one-hot encoding для широких классов\n",
        "train_labels_coarse = to_categorical(train_labels_coarse, 20)\n",
        "test_labels_coarse = to_categorical(test_labels_coarse, 20)"
      ],
      "metadata": {
        "id": "J5p2tk3gdQSQ"
      },
      "execution_count": null,
      "outputs": []
    },
    {
      "cell_type": "code",
      "source": [
        "# Создание архитектуры модели\n",
        "def create_model(num_classes):\n",
        "    model = Sequential([\n",
        "        Conv2D(64, (3,3), activation='relu', input_shape=(32,32,3)),\n",
        "        MaxPooling2D(2,2),\n",
        "\n",
        "        Conv2D(128, (3,3), activation='relu'),\n",
        "        MaxPooling2D(2,2),\n",
        "\n",
        "        Conv2D(128, (3,3), activation='relu'),\n",
        "        MaxPooling2D(2,2),\n",
        "\n",
        "        Flatten(),\n",
        "        Dense(512, activation='relu'),\n",
        "        Dense(100, activation='softmax'),\n",
        "    ])\n",
        "    return model"
      ],
      "metadata": {
        "id": "6skn4AU2T9ja"
      },
      "execution_count": 7,
      "outputs": []
    },
    {
      "cell_type": "markdown",
      "source": [
        "### Архитектура Модели\n",
        "\n",
        "1. **Сверточные слои (Convolutional Layers)** \\\n",
        "  Сверточные слои применяют набор фильтров к изображению для выявления особенностей, таких как края, углы, текстуры.\n",
        "\n",
        "2. **Слой пулинга (Pooling Layer)**\\\n",
        "  Max pooling часто используется для уменьшения размера каждой признаковой карты, сохраняя при этом важные признаки.\n",
        "\n",
        "3. **Слой нормализации (Normalization Layer)**\\\n",
        "  Batch normalization часто используется после сверточных и полносвязных слоев.\n",
        "\n",
        "4. **Полносвязные слои (Fully Connected Layers)**\\\n",
        "  Классификация особенностей, найденных сверточными и пулинговыми слоями. Слои, где каждый нейрон связан со всеми нейронами предыдущего слоя.\n",
        "\n",
        "5. **Выходной слой**\\\n",
        "  Прогнозирование класса изображения. Полносвязный слой с количеством нейронов, равным числу классов (100 для CIFAR-100), с функцией активации softmax для получения вероятностей классов."
      ],
      "metadata": {
        "id": "RAssSdpAkaM8"
      }
    },
    {
      "cell_type": "markdown",
      "source": [
        "### Гиперпараметры модели\n",
        "1. **Количество и рзмер свёрточных фильтров (Conv2D):**\n",
        "  * Первый слой - 64 фильтра, второй и третий слои - 128 фильтров, все с размером ядра 3x3.\n",
        "  * Начальный слой с 64 фильтрами помогает эффективно выявлять основные признаки изображений. Увеличение количества фильтров до 128 в последующих слоях позволяет сети обнаруживать более сложные и абстрактные признаки. Фильтры 3x3 являются стандартом в CNN, так как они обеспечивают хороший баланс между сохранением пространственной информации и количеством параметров.\n",
        "\n",
        "2. **Размер пула (MaxPooling2D):**\n",
        "  * 2x2\n",
        "  * Пулинг с размером 2x2 уменьшает размерность карт признаков, сохраняя важные характеристики. Это помогает уменьшить количество параметров и вычислительные затраты, а также контролировать переобучение.\n",
        "\n",
        "3. **Количество нейронов в полносвязных слоях (Dense):**\n",
        "  * 12 нейронов в предпоследнем слое и 100 нейронов в выходном слое.\n",
        "  * 512 нейронов обеспечивают достаточную емкость для классификации сложных признаков. Выходной слой с 100 нейронами соответствует количеству классов в CIFAR-100.\n",
        "\n",
        "4. **Функция активации:**\n",
        "  * 'ReLU' для свёрточных и полносвязных слоёв, 'Softmax' для выходного слоя.\n",
        "  * ReLU (Rectified Linear Unit) способствует быстрому обучению и уменьшает вероятность исчезающего градиента. Softmax применяется в выходном слое для преобразования логитов в вероятности принадлежности к каждому из 100 классов.\n",
        "\n",
        "\n",
        "### Гиперпараметры обучения\n",
        "1. **Функция потерь:**\n",
        "  * 'categorical_crossentropy'.\n",
        "  * Подходит для задач многоклассовой классификации, где каждый пример относится к одному из множества классов.\n",
        "\n",
        "2. **Оптимизатор:**\n",
        "  * RMSprop с скоростью обучения 1e-4.\n",
        "  * RMSprop оптимизирует процесс градиентного спуска, адаптируя скорость обучения для каждого параметра. Начальная скорость обучения 1e-4 является консервативным выбором, который помогает избежать проскакивания минимума функции потерь в начале обучения.\n",
        "\n",
        "3. **Количество эпох:**\n",
        "  * 10 эпох\n",
        "  * Это количество предоставляет достаточно итераций для обучения на данных, однако, следует следить за признаками переобучения и, при необходимости, регулировать количество эпох."
      ],
      "metadata": {
        "id": "r8EF_BFag8h7"
      }
    },
    {
      "cell_type": "code",
      "source": [
        "def create_model_2(num_classes):\n",
        "    model = Sequential([\n",
        "        Conv2D(64, (3,3), activation='relu', input_shape=(32,32,3)),\n",
        "        MaxPooling2D(2,2),\n",
        "\n",
        "        Conv2D(128, (3,3), activation='relu'),\n",
        "        MaxPooling2D(2,2),\n",
        "\n",
        "        Conv2D(128, (3,3), activation='relu'),\n",
        "        MaxPooling2D(2,2),\n",
        "\n",
        "        Flatten(),\n",
        "        Dense(512, activation='relu'),\n",
        "        Dense(20, activation='softmax'),\n",
        "    ])\n",
        "    return model"
      ],
      "metadata": {
        "id": "gpxIbSNSi01F"
      },
      "execution_count": 12,
      "outputs": []
    },
    {
      "cell_type": "code",
      "source": [
        "# Создание модели для 100 узких классов\n",
        "from tensorflow.keras import optimizers\n",
        "model_fine = create_model(100)\n",
        "model_fine.compile(loss='categorical_crossentropy',\n",
        "              optimizer=optimizers.RMSprop(learning_rate=1e-4),\n",
        "              metrics=['acc'])\n",
        "\n",
        "# Обучение модели на узких классах\n",
        "model_fine.fit(train_images, train_labels_fine, epochs=10, validation_data=(test_images, test_labels_fine))"
      ],
      "metadata": {
        "colab": {
          "base_uri": "https://localhost:8080/"
        },
        "outputId": "9c1f50cf-3cb7-4e0a-bc45-61560757aa12",
        "id": "Okt8Q2kybUew"
      },
      "execution_count": 9,
      "outputs": [
        {
          "output_type": "stream",
          "name": "stdout",
          "text": [
            "Epoch 1/10\n",
            "1563/1563 [==============================] - 172s 110ms/step - loss: 4.3566 - acc: 0.0686 - val_loss: 3.8727 - val_acc: 0.1091\n",
            "Epoch 2/10\n",
            "1563/1563 [==============================] - 169s 108ms/step - loss: 3.5998 - acc: 0.1569 - val_loss: 3.6181 - val_acc: 0.1627\n",
            "Epoch 3/10\n",
            "1563/1563 [==============================] - 183s 117ms/step - loss: 3.2279 - acc: 0.2241 - val_loss: 3.1982 - val_acc: 0.2351\n",
            "Epoch 4/10\n",
            "1563/1563 [==============================] - 175s 112ms/step - loss: 2.9562 - acc: 0.2743 - val_loss: 3.0258 - val_acc: 0.2611\n",
            "Epoch 5/10\n",
            "1563/1563 [==============================] - 168s 108ms/step - loss: 2.7334 - acc: 0.3207 - val_loss: 2.9015 - val_acc: 0.2909\n",
            "Epoch 6/10\n",
            "1563/1563 [==============================] - 171s 109ms/step - loss: 2.5515 - acc: 0.3570 - val_loss: 2.7795 - val_acc: 0.3195\n",
            "Epoch 7/10\n",
            "1563/1563 [==============================] - 170s 109ms/step - loss: 2.3855 - acc: 0.3932 - val_loss: 2.7074 - val_acc: 0.3311\n",
            "Epoch 8/10\n",
            "1563/1563 [==============================] - 173s 111ms/step - loss: 2.2355 - acc: 0.4237 - val_loss: 2.6967 - val_acc: 0.3403\n",
            "Epoch 9/10\n",
            "1563/1563 [==============================] - 178s 114ms/step - loss: 2.0995 - acc: 0.4556 - val_loss: 2.6553 - val_acc: 0.3479\n",
            "Epoch 10/10\n",
            "1563/1563 [==============================] - 184s 117ms/step - loss: 1.9652 - acc: 0.4869 - val_loss: 2.7351 - val_acc: 0.3498\n"
          ]
        },
        {
          "output_type": "execute_result",
          "data": {
            "text/plain": [
              "<keras.src.callbacks.History at 0x7bce87b01660>"
            ]
          },
          "metadata": {},
          "execution_count": 9
        }
      ]
    },
    {
      "cell_type": "code",
      "source": [
        "# Создание модели для 20 широких классов\n",
        "model_coarse = create_model_2(20)\n",
        "model_coarse.compile(loss='categorical_crossentropy',\n",
        "              optimizer=optimizers.RMSprop(learning_rate=1e-4),\n",
        "              metrics=['acc'])\n",
        "\n",
        "# Обучение модели на широких классах\n",
        "model_coarse.fit(train_images, train_labels_coarse, epochs=10, validation_data=(test_images, test_labels_coarse))"
      ],
      "metadata": {
        "colab": {
          "base_uri": "https://localhost:8080/"
        },
        "id": "clQHsoz2UCSK",
        "outputId": "99b78540-3009-46ef-c240-ddc0119e88e9"
      },
      "execution_count": 13,
      "outputs": [
        {
          "output_type": "stream",
          "name": "stdout",
          "text": [
            "Epoch 1/10\n",
            "1563/1563 [==============================] - 174s 111ms/step - loss: 2.6506 - acc: 0.2327 - val_loss: 2.3226 - val_acc: 0.2880\n",
            "Epoch 2/10\n",
            "1563/1563 [==============================] - 174s 111ms/step - loss: 2.1161 - acc: 0.3526 - val_loss: 2.1624 - val_acc: 0.3414\n",
            "Epoch 3/10\n",
            "1563/1563 [==============================] - 168s 107ms/step - loss: 1.9035 - acc: 0.4146 - val_loss: 1.9739 - val_acc: 0.3974\n",
            "Epoch 4/10\n",
            "1563/1563 [==============================] - 183s 117ms/step - loss: 1.7517 - acc: 0.4612 - val_loss: 1.9463 - val_acc: 0.4133\n",
            "Epoch 5/10\n",
            "1563/1563 [==============================] - 179s 114ms/step - loss: 1.6180 - acc: 0.4979 - val_loss: 1.8339 - val_acc: 0.4452\n",
            "Epoch 6/10\n",
            "1563/1563 [==============================] - 202s 129ms/step - loss: 1.5015 - acc: 0.5335 - val_loss: 1.9016 - val_acc: 0.4306\n",
            "Epoch 7/10\n",
            "1563/1563 [==============================] - 177s 113ms/step - loss: 1.3920 - acc: 0.5670 - val_loss: 1.7678 - val_acc: 0.4678\n",
            "Epoch 8/10\n",
            "1563/1563 [==============================] - 177s 113ms/step - loss: 1.2871 - acc: 0.5968 - val_loss: 1.8260 - val_acc: 0.4604\n",
            "Epoch 9/10\n",
            "1563/1563 [==============================] - 173s 111ms/step - loss: 1.1908 - acc: 0.6242 - val_loss: 1.8533 - val_acc: 0.4657\n",
            "Epoch 10/10\n",
            "1563/1563 [==============================] - 178s 114ms/step - loss: 1.0983 - acc: 0.6567 - val_loss: 1.8071 - val_acc: 0.4797\n"
          ]
        },
        {
          "output_type": "execute_result",
          "data": {
            "text/plain": [
              "<keras.src.callbacks.History at 0x7bce8fd14d30>"
            ]
          },
          "metadata": {},
          "execution_count": 13
        }
      ]
    },
    {
      "cell_type": "code",
      "source": [
        "# compile(optimizer='adam', loss='categorical_crossentropy', metrics=['accuracy'])"
      ],
      "metadata": {
        "id": "XHc1Mcrfh-lw"
      },
      "execution_count": null,
      "outputs": []
    },
    {
      "cell_type": "code",
      "source": [
        "# Сравнение производительности моделей\n",
        "test_loss_fine, test_acc_fine = model_fine.evaluate(test_images, test_labels_fine, verbose=2)\n",
        "test_loss_coarse, test_acc_coarse = model_coarse.evaluate(test_images, test_labels_coarse, verbose=2)\n",
        "\n",
        "\n",
        "fine_accuracy = model_fine.evaluate(test_images, test_labels_fine, verbose=0)[1]\n",
        "coarse_accuracy = model_coarse.evaluate(test_images, test_labels_coarse, verbose=0)[1]\n",
        "print(f\"Accuracy для узких классов: {test_acc_fine}\")\n",
        "print(f\"Accuracy для широких классов: {coarse_accuracy}\")"
      ],
      "metadata": {
        "colab": {
          "base_uri": "https://localhost:8080/"
        },
        "id": "S-2PpyB7UCni",
        "outputId": "257ebc98-bb0a-4c42-9f78-116b3d99a88a"
      },
      "execution_count": 15,
      "outputs": [
        {
          "output_type": "stream",
          "name": "stdout",
          "text": [
            "313/313 - 7s - loss: 2.7351 - acc: 0.3498 - 7s/epoch - 23ms/step\n",
            "313/313 - 8s - loss: 1.8071 - acc: 0.4797 - 8s/epoch - 26ms/step\n",
            "Accuracy для узких классов: 0.3497999906539917\n",
            "Accuracy для широких классов: 0.4796999990940094\n"
          ]
        }
      ]
    },
    {
      "cell_type": "code",
      "source": [
        "# Функция для вычисления точности для каждого класса\n",
        "def calculate_class_accuracy(model, images, true_labels):\n",
        "    # Получение предсказаний модели\n",
        "    predictions = model.predict(images)\n",
        "    predicted_classes = np.argmax(predictions, axis=1)\n",
        "    true_classes = np.argmax(true_labels, axis=1)\n",
        "\n",
        "    # Получение отчета по классификации для каждого класса\n",
        "    class_report = classification_report(true_classes, predicted_classes, output_dict=True)\n",
        "    return class_report\n"
      ],
      "metadata": {
        "id": "tVaGJ9S6uLME"
      },
      "execution_count": 22,
      "outputs": []
    },
    {
      "cell_type": "code",
      "source": [
        "import numpy as np\n",
        "from sklearn.metrics import classification_report\n",
        "\n",
        "# Вычисление точности для каждого узкого класса\n",
        "class_accuracy_fine = calculate_class_accuracy(model_fine, test_images, test_labels_fine)\n",
        "\n",
        "# Вычисление точности для каждого широкого класса\n",
        "class_accuracy_coarse = calculate_class_accuracy(model_coarse, test_images, test_labels_coarse)"
      ],
      "metadata": {
        "colab": {
          "base_uri": "https://localhost:8080/"
        },
        "id": "mIbj-t3orTsW",
        "outputId": "d395f42c-65ef-4a44-cc3e-1391ae511184"
      },
      "execution_count": 23,
      "outputs": [
        {
          "output_type": "stream",
          "name": "stdout",
          "text": [
            "313/313 [==============================] - 9s 29ms/step\n",
            "313/313 [==============================] - 10s 33ms/step\n"
          ]
        }
      ]
    },
    {
      "cell_type": "code",
      "source": [
        "accuracy_diff = {} # Словарь для разности точностей\n",
        "for fine_class in range(100):\n",
        "    coarse_class = fine_class // 5 # Примерное сопоставление\n",
        "    diff = class_accuracy_fine[str(fine_class)]['precision'] - class_accuracy_coarse[str(coarse_class)]['precision']\n",
        "    accuracy_diff[fine_class] = diff\n",
        "\n",
        "# Визуализация\n",
        "plt.bar(accuracy_diff.keys(), accuracy_diff.values())\n",
        "plt.xlabel('Классы')\n",
        "plt.ylabel('Разность в точности')\n",
        "plt.title('Разность точности между узкими и широкими классами')\n",
        "plt.show()"
      ],
      "metadata": {
        "colab": {
          "base_uri": "https://localhost:8080/",
          "height": 472
        },
        "id": "BmnKEMAdroJn",
        "outputId": "e8e283a5-8dcc-46dc-ee35-ea894abc82cc"
      },
      "execution_count": 17,
      "outputs": [
        {
          "output_type": "display_data",
          "data": {
            "text/plain": [
              "<Figure size 640x480 with 1 Axes>"
            ],
            "image/png": "[encoded data removed]"
          },
          "metadata": {}
        }
      ]
    }
  ]
}